{
 "cells": [
  {
   "cell_type": "markdown",
   "metadata": {},
   "source": [
    "simulation to illustrate ensemble learning, refer to slides 14 and 15 in slide deck"
   ]
  },
  {
   "cell_type": "code",
   "execution_count": 1,
   "metadata": {
    "collapsed": true
   },
   "outputs": [],
   "source": [
    "simulate.ens <- function(n, p, K){\n",
    "        \n",
    "        # single classifier\n",
    "        c.single <- rbinom(n = n, size = 1, prob = p)\n",
    "        tab.single <- table(c.single)\n",
    "        print(paste(\n",
    "                \"Accuracy of single classifier: \",\n",
    "                acc.single <- tab.single[2] / sum(tab.single),\n",
    "                sep = \"\"))\n",
    "        \n",
    "        \n",
    "        # K *independent* classifiers\n",
    "        c.df <- NULL\n",
    "        for(i in seq(K)){\n",
    "                ci <- rbinom(n = n, size = 1, prob = p)\n",
    "                c.df <- cbind(c.df, ci)\n",
    "        }\n",
    "        \n",
    "        c.ens <- apply(c.df, MARGIN = 1, FUN = function(one.row){\n",
    "                if(sum(one.row) >= 0.5 * K) return(1)\n",
    "                else return(0)\n",
    "        })\n",
    "        tab.ens <- table(c.ens)\n",
    "        print(paste(\n",
    "                \"Accuracy of ensemble: \",\n",
    "                acc.ens <- tab.ens[2] / sum(tab.ens),\n",
    "                sep = \"\"))\n",
    "}"
   ]
  },
  {
   "cell_type": "code",
   "execution_count": 3,
   "metadata": {
    "collapsed": false
   },
   "outputs": [
    {
     "name": "stdout",
     "output_type": "stream",
     "text": [
      "[1] \"Accuracy of single classifier: 0.5941\"\n",
      "[1] \"Accuracy of ensemble: 0.6523\"\n"
     ]
    }
   ],
   "source": [
    "# let's have a dataset with 10000 samples,\n",
    "# each classifier having 60% accuracy\n",
    "# and an ensemble size of 3\n",
    "simulate.ens(n = 10000, p = 0.6, K = 3)"
   ]
  },
  {
   "cell_type": "code",
   "execution_count": 4,
   "metadata": {
    "collapsed": false
   },
   "outputs": [
    {
     "name": "stdout",
     "output_type": "stream",
     "text": [
      "[1] \"Accuracy of single classifier: 0.5151\"\n",
      "[1] \"Accuracy of ensemble: 0.6275\"\n"
     ]
    }
   ],
   "source": [
    "# go ahead and change the parameters of our simulation\n",
    "simulate.ens(n = 10000, p = 0.51, K = 100)"
   ]
  },
  {
   "cell_type": "code",
   "execution_count": null,
   "metadata": {
    "collapsed": true
   },
   "outputs": [],
   "source": []
  }
 ],
 "metadata": {
  "kernelspec": {
   "display_name": "R",
   "language": "R",
   "name": "ir"
  },
  "language_info": {
   "codemirror_mode": "r",
   "file_extension": ".r",
   "mimetype": "text/x-r-source",
   "name": "R",
   "pygments_lexer": "r",
   "version": "3.3.1"
  }
 },
 "nbformat": 4,
 "nbformat_minor": 0
}
